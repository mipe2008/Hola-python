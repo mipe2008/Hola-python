{
  "nbformat": 4,
  "nbformat_minor": 0,
  "metadata": {
    "colab": {
      "provenance": [],
      "authorship_tag": "ABX9TyPFlCTEnQ986O2CBuZcC3gA",
      "include_colab_link": true
    },
    "kernelspec": {
      "name": "python3",
      "display_name": "Python 3"
    },
    "language_info": {
      "name": "python"
    }
  },
  "cells": [
    {
      "cell_type": "markdown",
      "metadata": {
        "id": "view-in-github",
        "colab_type": "text"
      },
      "source": [
        "<a href=\"https://colab.research.google.com/github/mipe2008/Hola-python/blob/main/ejercicios_listas.ipynb\" target=\"_parent\"><img src=\"https://colab.research.google.com/assets/colab-badge.svg\" alt=\"Open In Colab\"/></a>"
      ]
    },
    {
      "cell_type": "code",
      "execution_count": null,
      "metadata": {
        "colab": {
          "base_uri": "https://localhost:8080/"
        },
        "id": "df3BbmkGCdxl",
        "outputId": "645a3373-3b84-43ed-c839-34488e832778"
      },
      "outputs": [
        {
          "output_type": "stream",
          "name": "stdout",
          "text": [
            "Mi_lista.insert (list, Ingresa una lista de int.mro: \n",
            "Mi_lista (Calcula list int.mro: \n"
          ]
        }
      ],
      "source": [
        "#Mi_Lista:\n",
        "#Solicitar ingresar una lista de números\n",
        "print ( \"Mi_lista.insert (list, Ingresa una lista de int.mro: \")\n",
        "# Calcula su promedio\n",
        "print ( \"Mi_lista (Calcula list int.mro: \")\n",
        "\n"
      ]
    },
    {
      "cell_type": "code",
      "source": [],
      "metadata": {
        "id": "w77o-kwK2CDN"
      },
      "execution_count": null,
      "outputs": []
    },
    {
      "cell_type": "code",
      "source": [],
      "metadata": {
        "id": "BRZnNqPV1rya"
      },
      "execution_count": null,
      "outputs": []
    },
    {
      "cell_type": "markdown",
      "source": [],
      "metadata": {
        "id": "DKUAmneZCkZ-"
      }
    },
    {
      "cell_type": "code",
      "source": [
        "#Episodios_Malargüe: [\"epi1\", \"epi2\", \"epi3\", \"epi4\"]\n",
        "\n",
        "# Solicitar insertar un número de episodio\n",
        "numero = float (input(\"Introduce un número de episodio: \"))\n",
        "\n"
      ],
      "metadata": {
        "id": "an6Jz3e_Chox",
        "colab": {
          "base_uri": "https://localhost:8080/"
        },
        "outputId": "f0cfe9fe-886f-4bdb-d2ca-193fa44ad17a"
      },
      "execution_count": null,
      "outputs": [
        {
          "name": "stdout",
          "output_type": "stream",
          "text": [
            "Introduce un número de episodio: 5\n"
          ]
        }
      ]
    },
    {
      "cell_type": "code",
      "source": [
        "print (nombreCompleto)\n",
        "\n",
        "edad = 24\n",
        "edad = edad + 1\n",
        "print (edad)\n",
        "import math\n",
        "\n"
      ],
      "metadata": {
        "id": "nX_osP64I75N"
      },
      "execution_count": null,
      "outputs": []
    },
    {
      "cell_type": "code",
      "source": [
        "# Solicitar base y altura del triángulo\n",
        "base = float(input(\"Introduce la base del triángulo: \"))\n",
        "altura = float(input(\"Introduce la altura del triángulo: \"))\n",
        "\n",
        "# Calcular el área del triángulo\n",
        "area = (base * altura) / 2\n",
        "\n",
        "\n"
      ],
      "metadata": {
        "id": "PX0nCQNaI8iU"
      },
      "execution_count": null,
      "outputs": []
    },
    {
      "cell_type": "code",
      "source": [
        "# Solicitar tres números\n",
        "numero = float (input(\"Introduce un número: \"))\n",
        "numero = float (input(\"Introduce un número: \"))\n",
        "numero = float (input(\"introduce un número: \"))\n",
        "# Calcula su promedio\n",
        "promedio = (numero+numero+numero) / 3"
      ],
      "metadata": {
        "id": "aZYpdHlnJU9u"
      },
      "execution_count": null,
      "outputs": []
    },
    {
      "cell_type": "code",
      "source": [
        "# Compara dos listas\n"
      ],
      "metadata": {
        "id": "Xug7eD3ZJiDr"
      },
      "execution_count": null,
      "outputs": []
    },
    {
      "cell_type": "code",
      "source": [
        "class RecetaArrozBlanco:\n",
        "    def __init__(self):\n",
        "        self.nombre = \"Arroz Blanco\"\n",
        "        self.raciones = 4\n",
        "        self.ingredientes = {\n",
        "            \"arroz blanco de grano mediano o largo\": \"1 taza o 200 g\",\n",
        "            \"agua\": \"2 tazas o 500 ml\",\n",
        "            \"sal\": \"1/2 cucharadita o 3 g\",\n",
        "            \"aceite o manteca\": \"1 cucharada o 15 g\"\n",
        "        }\n",
        "        self.instrucciones = [\n",
        "            \"Enjuaga el arroz bajo agua fría hasta que el agua salga clara.\",\n",
        "            \"En una olla, calienta el aceite o manteca a fuego medio.\",\n",
        "            \"Agrega el arroz y sofríe durante unos minutos hasta que esté ligeramente dorado.\",\n",
        "            \"Añade el agua y la sal a la olla.\",\n",
        "            \"Cuando el agua comience a hervir, reduce el fuego al mínimo y tapa la olla.\",\n",
        "            \"Cocina durante 18-20 minutos o hasta que el agua se haya absorbido.\",\n",
        "            \"Retira del fuego y deja reposar durante 5 minutos antes de servir.\"\n",
        "        ]\n",
        "\n",
        "    def mostrar_ingredientes(self):\n",
        "        \"\"\"Muestra los ingredientes de la receta.\"\"\"\n",
        "        print(\"Ingredientes para\", self.nombre + \":\")  # Se agrega \":\" para mejor legibilidad\n",
        "        for ingrediente, cantidad in self.ingredientes.items():\n",
        "            print(f\"- {ingrediente}: {cantidad}\")\n",
        "\n",
        "    def mostrar_instrucciones(self):\n",
        "        \"\"\"Muestra las instrucciones de la receta.\"\"\"\n",
        "        print(\"Instrucciones para\", self.nombre + \":\")\n",
        "        for instruccion in self.instrucciones:\n",
        "            print(instruccion)\n",
        "\n",
        "            def calcular_ingredientes(self):\n",
        "              #Solicitar un número\n",
        "        numero = float (input(\"Introduce un número: \"))\n",
        "\n",
        "                Returns:\n",
        "            dict: Un diccionario con los ingredientes y sus cantidades\n",
        "                  calculadas para las raciones deseadas.\n",
        "        \"\"\"\n",
        "        while True:  # Bucle para validar la entrada del usuario\n",
        "            try:\n",
        "                raciones_deseadas = int(input(\"Introduce el número de raciones deseado: \"))\n",
        "                if raciones_deseadas > 0:\n",
        "                    break  # Salir del bucle si la entrada es válida\n",
        "                else:\n",
        "                    print(\"Por favor, introduce un número mayor que 0.\")\n",
        "            except ValueError:\n",
        "                print(\"Por favor, introduce un número válido.\")\n",
        "\n",
        "        factor = raciones_deseadas / self.raciones\n",
        "        ingredientes_calculados = {\n",
        "            ingrediente: cantidad * factor\n",
        "            for ingrediente, cantidad in self.ingredientes.items()\n",
        "        }\n",
        "        # Imprimir los ingredientes calculados (opcional):\n",
        "        print(f\"Ingredientes para {raciones_deseadas} raciones de {self.nombre}:\")\n",
        "        for ingrediente, cantidad in ingredientes_calculados.items():\n",
        "            print(f\"- {ingrediente}: {cantidad}\")\n",
        "        return ingredientes_calculados\n",
        "\n",
        ""
      ],
      "metadata": {
        "id": "dbhgcAiw3Lcm"
      },
      "execution_count": null,
      "outputs": []
    },
    {
      "cell_type": "code",
      "source": [],
      "metadata": {
        "id": "lsf58dDva6Au"
      },
      "execution_count": null,
      "outputs": []
    },
    {
      "cell_type": "code",
      "source": [
        "#calculadora_operaciones.py:\n",
        "def suma(a,b):\n",
        "return a+b\n",
        "\n",
        "def resta(a,b):\n",
        "return a-b\n",
        "\n",
        "def multiplication(a,b):\n",
        "return a*b\n",
        "\n",
        "def division(a,b):\n",
        "if b==0:\n",
        "raise Value Error(\"No puede dividir por cero.\")\n",
        "return a/b\n",
        "\n",
        "historial.py:\n",
        "historial = []\n",
        "\n",
        "def agregar_a_historial(operacion):\n",
        "historial.append(operacion)\n",
        "\n",
        "def mostrar_historial():\n",
        "return historial\n",
        "\n",
        "main.py:\n",
        "from operaciones import suma, resta, multiplicacion, division\n",
        "from historial import agregar_a_historial, mostrar_historial\n",
        "\n",
        "def main():\n",
        "while True:\n",
        "print(\"\\nMenú de la Calculadora\")\n",
        "print(\"1.Sumar\")\n",
        "print(\"2.Restar\")\n",
        "print(\"3.Multiplicar\")\n",
        "print(\"4.Dividir\")\n",
        "print(\"5.Mostrar Historial\")\n",
        "print(\"6.Salir\")\n",
        "\n",
        "opcion = input(\"Seleccione una opción:\")\n",
        "if opcion =='6':\n",
        "break\n",
        "\n",
        "if opcion in ['1', '2', '3', '4']:\n",
        "try:\n",
        "a = float(input(\"Ingrese el primer operando:\"))\n",
        "b = float(input(\"Ingrese el segundo operando:\"))\n",
        "\n",
        "if opcion =='1':\n",
        "resultado = suma(a,b)\n",
        "operación = f\"{a} / {b} = (resultado)\"\n",
        "\n",
        "print(operacion)\n",
        "agregar_a_historial(operacion)\n",
        "\n",
        "except ValueError as e:\n",
        "print(f\"Error: {e}\")\n",
        "excep Exception as e:\n",
        "print(f\"Se produjo un error inesperado: {e}\")\n",
        "\n",
        "elif opcion == '5':\n",
        "print(\"\\nHistorial de Operaciones\":)\n",
        "for op in mostrar_historial():\n",
        "prin(op)\n",
        "else:\n",
        "print(\"Opción no Válida.\")\n",
        "\n",
        "if_name_==\"__main__\":\n",
        "main()\n",
        "\n",
        "#Manejo de errores y archivos\n",
        "historia.py\n",
        "import json\n",
        "\n",
        "historial = []\n",
        "\n",
        "def agregar_a_historial (operacion):\n",
        "historial.append(operacion)\n",
        "guardar_historial()\n",
        "\n",
        "def mostrar_historial():\n",
        "return historial\n",
        "\n",
        "def guardar_historial():\n",
        "with open('historial.json','w')as f:\n",
        "json.dump(historial,f)\n",
        "def cargar_historial()\n",
        "global historial\n",
        "try:\n",
        "with open ('historial.json','r')as f:\n",
        "historial = json.load(f)\n",
        "except FileNotFoudError:\n",
        "historial = []\n",
        "\n",
        "main.py\n",
        "from historial import cargar_historial\n",
        "\n",
        "def main():\n",
        "cargar_historial() #cargar el historial al inicio\n",
        "\n",
        "\n",
        "#import arithmetic\n",
        "\n",
        "resul_addition = arithmetic.addition(5,3)\n",
        "result_subtraction = arithmetic.subtraction(10,4)\n",
        "result_multiplication = arithmetic.multiplicacion(7,2)\n",
        "result_divsion = arithmetic.division(10,2)\n",
        "\n",
        "print(\"Result of addition:\", resul_addition)\n",
        "print(\"Result of subtraction:\", result_subtraction)\n",
        "print(\"result of multiplication\", result_multiplication)\n",
        "print(\"result of division\", result_divsion)"
      ],
      "metadata": {
        "id": "jeKdawZlpNa1"
      },
      "execution_count": null,
      "outputs": []
    },
    {
      "cell_type": "markdown",
      "source": [],
      "metadata": {
        "id": "1EOaJFh1a5T3"
      }
    },
    {
      "cell_type": "code",
      "source": [
        "class Rectangulo(Poligono):\n",
        "\n",
        "\"\"\"\"\"\"\n",
        "\n",
        "Define un rectángulo según su base y altura.\n",
        "\n",
        "\"\"\" \"\"\"\n",
        "\n",
        "\n",
        "def__init__(self, b, h):\n",
        "\n",
        "\n",
        "    self.b = b\n",
        "\n",
        "    self.h = h\n",
        "\n",
        "\n",
        "\n",
        "    def area (self):\n",
        "\n",
        "\n",
        "        return self.b * self.h\n",
        "\n",
        "\n",
        "\n",
        "        rectangulo = Rectangulo(20, 10)\n",
        "\n",
        "        print(\"Area del rectángulo:\", rectangulo.area())\n",
        "\n",
        "\n",
        "class Triangulo\n",
        "\n",
        "    \"\"\" \"\"\"\n",
        "\n",
        "    def__init__(self, b, h):\n",
        "\n",
        "    self.b = b\n",
        "\n",
        "    self.h = h\n",
        "\n",
        "\n",
        "    def area(sef):\n",
        "\n",
        "        return (self.b * self.h) / 2\n",
        "\n",
        "\n",
        "class Poligono:\n",
        "\n",
        "    \"\"\" \"\"\"\n",
        "\n",
        "Define un polígono según su base y su altura.\n",
        "\n",
        "\"\"\" \"\"\"\n",
        "\n",
        "def__init__(self, b, h):\n",
        "\n",
        "self.b = b\n",
        "\n",
        "self.h = h\n",
        "\n",
        "\n",
        "class Rectangulo(Poligono):\n",
        "\n",
        "\n",
        "\n",
        "    def area(sef):\n",
        "        return sef.b * self.h\n",
        "\n",
        "\n",
        "        class Triangulo(Poligono):\n",
        "\n",
        "            def area(sef):\n",
        "                return (self.b * self.h) / 2\n",
        "\n",
        "                rectangulo = Rectangulo(20,10)\n",
        "                triangulo = Triangulo(20,12)\n",
        "\n",
        "\n",
        "                print(\"Area del rectángulo:\", rectangulo.area())\n",
        "                print(\"Area del triángulo:\", triangulo.area())\n"
      ],
      "metadata": {
        "id": "K0KzHva_pm6p"
      },
      "execution_count": null,
      "outputs": []
    },
    {
      "cell_type": "code",
      "source": [
        "def addition(a,b):\n",
        "    return a + b\n",
        "\n",
        "    def subtraction(a, b):\n",
        "        return a - b\n",
        "\n",
        "        def multiplication (a,b):\n",
        "            return a * b\n",
        "\n",
        "            def division(a,b):\n",
        "                if b != 0:\n",
        "                    return a / b\n",
        "                    else:\n",
        "                        return \"Error:Division by zero\""
      ],
      "metadata": {
        "id": "7NG9iJeXa3Bv"
      },
      "execution_count": null,
      "outputs": []
    },
    {
      "cell_type": "code",
      "source": [
        "# Ejercicio introducción a la Poo, Clases, Objetos, Atributos y Métodos\n",
        "\n",
        "Clase Libro\n",
        "class Libro:\n",
        "    #Atributo de clase\n",
        "    categoria general = \"Literatura\"\n",
        "\n",
        "    def_int_(self,titulo,autor,anio_publicacion):\n",
        "        #Atributos de objeto\n",
        "        self.titulo = titulo\n",
        "        self.autor = autor\n",
        "        self.anio_publicacion = anio_publicacion\n",
        "\n",
        "        @property\n",
        "        def edad(sef):\n",
        "            \"\"\"Campo calculado que devuelve la edad del libro en años.\"\"\"\n",
        "            return 2024 - self.anio_publicacion #Suponiendo que el año actual es 2024\n",
        "\n",
        "            def descripcion(self):\n",
        "                \"\"\"Método de objeto que devuleve una decripción del libro.\"\"\"\n",
        "                return cls.categoria_general\n",
        "\n",
        "                @classmethod\n",
        "                def categoria (cls):\n",
        "                    \"\"\"Método de clase que devuelve la categoría general de los libros.\"\"\"\n",
        "                    return cls.categoria_general\n",
        "\n",
        "                    @staticmethod\n",
        "                    def es_clasico(anio_publicacion):\n",
        "                        \"\"\"Método estático que determina si un libro es conciderado clásico (publicado hace más de 50 años).\"\"\"\n",
        "                        return(2024 - anio_publicacion) > 50\n",
        "\n",
        "                        # Ejemplo de uso\n",
        "                        if_name_==\"_main_\":\n",
        "                            libro1 = Libro(\"Cien años de soledad\", \"Gabriel García Márquez\", 1967)\n",
        "\n",
        "                            print(libro1.descripcion()) #Descripcion del libro\n",
        "                            print(f\"Edad del libro:{libro1.edad}años\") #Campo calculado\n",
        "                            print(f\"categoría:{Libro.categoria()}\") #Método de clase\n",
        "                            print(f\"¿Es clásico?{'Sí'if Libro.es_clasico(libro1.anio_publicacion) else 'No'}\") #Método estático."
      ],
      "metadata": {
        "id": "qEyuYR2bqCy4"
      },
      "execution_count": null,
      "outputs": []
    }
  ]
}